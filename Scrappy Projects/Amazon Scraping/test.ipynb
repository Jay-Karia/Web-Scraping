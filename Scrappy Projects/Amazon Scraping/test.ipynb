{
 "cells": [
  {
   "cell_type": "markdown",
   "source": [
    "## Importing Required modules"
   ],
   "metadata": {}
  },
  {
   "cell_type": "code",
   "execution_count": 1,
   "source": [
    "from bs4 import BeautifulSoup\r\n",
    "import requests\r\n",
    "import csv"
   ],
   "outputs": [],
   "metadata": {}
  }
 ],
 "metadata": {
  "orig_nbformat": 4,
  "language_info": {
   "name": "python",
   "version": "3.7.8rc1",
   "mimetype": "text/x-python",
   "codemirror_mode": {
    "name": "ipython",
    "version": 3
   },
   "pygments_lexer": "ipython3",
   "nbconvert_exporter": "python",
   "file_extension": ".py"
  },
  "kernelspec": {
   "name": "python3",
   "display_name": "Python 3.7.8rc1 64-bit"
  },
  "interpreter": {
   "hash": "3cee45b58b9f6d6875054f24cd9b3a5546743f1f8226710c35b1fc2830e05843"
  }
 },
 "nbformat": 4,
 "nbformat_minor": 2
}